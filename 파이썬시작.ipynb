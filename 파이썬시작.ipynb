{
  "nbformat": 4,
  "nbformat_minor": 0,
  "metadata": {
    "colab": {
      "provenance": [],
      "authorship_tag": "ABX9TyNHi/c32efQT89cqcOz0+1I",
      "include_colab_link": true
    },
    "kernelspec": {
      "name": "python3",
      "display_name": "Python 3"
    },
    "language_info": {
      "name": "python"
    }
  },
  "cells": [
    {
      "cell_type": "markdown",
      "metadata": {
        "id": "view-in-github",
        "colab_type": "text"
      },
      "source": [
        "<a href=\"https://colab.research.google.com/github/Geunja/python/blob/main/%ED%8C%8C%EC%9D%B4%EC%8D%AC%EC%8B%9C%EC%9E%91.ipynb\" target=\"_parent\"><img src=\"https://colab.research.google.com/assets/colab-badge.svg\" alt=\"Open In Colab\"/></a>"
      ]
    },
    {
      "cell_type": "code",
      "execution_count": null,
      "metadata": {
        "colab": {
          "base_uri": "https://localhost:8080/"
        },
        "id": "66TAbMaj-jAn",
        "outputId": "0fdb7bd6-0e1a-4b91-8d37-193949dd1806"
      },
      "outputs": [
        {
          "output_type": "stream",
          "name": "stdout",
          "text": [
            "hello\n"
          ]
        }
      ],
      "source": [
        "print(\"hello\")"
      ]
    },
    {
      "cell_type": "markdown",
      "source": [
        "hello 출력이 완료되었네요. "
      ],
      "metadata": {
        "id": "lvCGFAJN-qIU"
      }
    },
    {
      "cell_type": "code",
      "source": [],
      "metadata": {
        "id": "foahbzYO-uMf"
      },
      "execution_count": null,
      "outputs": []
    }
  ]
}